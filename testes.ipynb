{
 "cells": [
  {
   "cell_type": "code",
   "execution_count": 1,
   "id": "f8307532",
   "metadata": {},
   "outputs": [
    {
     "name": "stdout",
     "output_type": "stream",
     "text": [
      "My\n",
      "name\n",
      "is\n",
      "Bond. James Bond.\n"
     ]
    }
   ],
   "source": [
    "print(\"My\\nname\\nis\\nBond.\", end=\" \")\n",
    "print(\"James Bond.\")"
   ]
  },
  {
   "cell_type": "code",
   "execution_count": null,
   "id": "0ede589e",
   "metadata": {},
   "outputs": [],
   "source": []
  },
  {
   "cell_type": "code",
   "execution_count": 1,
   "id": "57484eb2",
   "metadata": {},
   "outputs": [
    {
     "name": "stdout",
     "output_type": "stream",
     "text": [
      "Greg's book.\n",
      "'Greg's book.'\n",
      "\"Greg's book.\"\n",
      "Greg's book.\n",
      "'Greg's book.'\n"
     ]
    }
   ],
   "source": [
    "print('Greg\\'s book.')\n",
    "print(\"'Greg's book.'\")\n",
    "print('\"Greg\\'s book.\"')\n",
    "print(\"Greg\\'s book.\")\n",
    "print(\"'Greg's book.'\")"
   ]
  },
  {
   "cell_type": "markdown",
   "id": "cfb7db3c",
   "metadata": {},
   "source": [
    " unterminated string literal (detected at line 5), significa que o Python encontrou o início de uma string (com as aspas \"), mas não encontrou o final dessa string na mesma linha (linha 5 do seu código).\n",
    "\n",
    "A causa mais provável desse erro no contexto que você mostrou é um problema com as aspas dentro da string que você está tentando imprimir.\n",
    "\n",
    "Você está tentando imprimir a string: \"Greg's book.\"\n",
    "\n",
    "O problema é que essa string contém um apóstrofo (') dentro dela. Se você inicia a string com aspas duplas (\"), o apóstrofo é perfeitamente válido dentro da string. O erro geralmente ocorre quando você tenta usar o mesmo tipo de aspas para delimitar a string e dentro da string sem usar um caractere de escape.\n",
    "\n",
    "Como corrigir isso:\n",
    "\n",
    "Existem duas maneiras principais de corrigir esse erro:\n",
    "\n",
    "Usar aspas simples para delimitar a string: Se a sua string contém aspas duplas dentro dela, você pode usar aspas simples para iniciar e finalizar a string:\n",
    "\n",
    "Python\n",
    "\n",
    "print('\"Greg\\'s book.\"')\n",
    "Nesse caso, as aspas duplas dentro da string são tratadas como caracteres normais.\n",
    "\n",
    "Usar um caractere de escape (backslash \\): Você pode usar uma barra invertida (\\) antes do caractere especial (neste caso, o apóstrofo) para \"escapá-lo\". Isso diz ao Python para tratar esse caractere literalmente, em vez de como um delimitador de string:\n",
    "\n",
    "Python\n",
    "\n",
    "print(\"\\\"Greg's book.\\\"\")\n",
    "Aqui, a barra invertida antes do apóstrofo (\\') faz com que ele seja interpretado como um simples caractere 's' dentro da string.\n",
    "\n",
    "No seu caso específico, a string que você quer imprimir já está delimitada por aspas duplas (\"). O problema, conforme a mensagem de erro sugere, é que o Python pode estar interpretando o apóstrofo (') dentro de \"Greg's\" como o final prematuro de alguma string (embora não pareça haver outra string sendo iniciada ali imediatamente).\n",
    "\n",
    "A correção mais direta para o seu código, mantendo as aspas duplas como delimitadores da string, é:\n",
    "\n",
    "Python\n",
    "\n",
    "print(\"\\\"Greg's book.\\\"\")\n",
    "Ou, alternativamente, você poderia usar aspas simples para delimitar a string:\n",
    "\n",
    "Python\n",
    "\n",
    "print(\"'Greg's book.'\")\n",
    "Ambas as correções devem resolver o SyntaxError: unterminated string literal.\n",
    "\n",
    "Verifique o seu código exatamente como está na célula In[2], linha 5. Pode haver algum outro caractere invisível ou um erro de digitação que esteja causando o problema. Se você copiar e colar a linha exata aqui, posso analisar com mais precisão."
   ]
  },
  {
   "cell_type": "code",
   "execution_count": 3,
   "id": "bdce8b7a",
   "metadata": {},
   "outputs": [
    {
     "name": "stdout",
     "output_type": "stream",
     "text": [
      "I like \"Monty Python\"\n"
     ]
    }
   ],
   "source": [
    "print(\"I like \\\"Monty Python\\\"\")\n",
    "\n"
   ]
  },
  {
   "cell_type": "code",
   "execution_count": 4,
   "id": "c1d565cb",
   "metadata": {},
   "outputs": [
    {
     "name": "stdout",
     "output_type": "stream",
     "text": [
      "I like \"Monty Python\"\n"
     ]
    }
   ],
   "source": [
    "print('I like \"Monty Python\"')\n",
    "\n"
   ]
  },
  {
   "cell_type": "code",
   "execution_count": 5,
   "id": "e1130b86",
   "metadata": {},
   "outputs": [
    {
     "name": "stdout",
     "output_type": "stream",
     "text": [
      "\"I'm\"\n",
      "'\"\"learning\"\"'\n",
      "'''\"\"\"Python\"\"\"'''\n"
     ]
    }
   ],
   "source": [
    "print('\"I\\'m\"\\n\\'\"\"learning\"\"\\'\\n\\'\\'\\'\"\"\"Python\"\"\"\\'\\'\\'')"
   ]
  },
  {
   "cell_type": "code",
   "execution_count": null,
   "id": "38f6171b",
   "metadata": {},
   "outputs": [
    {
     "data": {
      "text/plain": [
       "True"
      ]
     },
     "execution_count": 5,
     "metadata": {},
     "output_type": "execute_result"
    }
   ],
   "source": [
    "(2**0) + (2**1) + (2**3) == 11 # seu erro == são dois "
   ]
  },
  {
   "cell_type": "code",
   "execution_count": 7,
   "id": "3eb492aa",
   "metadata": {},
   "outputs": [
    {
     "name": "stdout",
     "output_type": "stream",
     "text": [
      "3\n"
     ]
    }
   ],
   "source": [
    "var = 2\n",
    "var = 3\n",
    "print(var)"
   ]
  },
  {
   "cell_type": "code",
   "execution_count": null,
   "metadata": {},
   "outputs": [
    {
     "name": "stdout",
     "output_type": "stream",
     "text": [
      "11\n"
     ]
    }
   ],
   "source": [
    "a = '1'\n",
    "b = \"1\"\n",
    "print(a + b)\n",
    "\n"
   ]
  },
  {
   "cell_type": "code",
   "execution_count": null,
   "metadata": {},
   "outputs": [
    {
     "name": "stdout",
     "output_type": "stream",
     "text": [
      "1.0\n"
     ]
    }
   ],
   "source": []
  },
  {
   "cell_type": "code",
   "execution_count": null,
   "metadata": {},
   "outputs": [],
   "source": []
  },
  {
   "cell_type": "code",
   "execution_count": 10,
   "metadata": {},
   "outputs": [
    {
     "name": "stdout",
     "output_type": "stream",
     "text": [
      "Adição: 5 + 3 = 8\n",
      "Subtração: 10 - 4 = 6\n",
      "Multiplicação: 6 * 7 = 42\n",
      "Divisão: 15 / 3 = 5.0\n",
      "Divisão Inteira: 16 // 3 = 5\n",
      "Módulo (Resto): 17 % 5 = 2\n",
      "Exponenciação: 2 ** 3 = 8\n",
      "------------------------------\n",
      "Atribuição e Adição (+=): x era 10, agora x += 5 é 15\n",
      "Atribuição e Subtração (-=): y era 20, agora y -= 7 é 13\n",
      "Atribuição e Multiplicação (*=): z era 3, agora z *= 4 é 12\n",
      "Atribuição e Divisão (/=): a era 25, agora a /= 5 é 5.0\n",
      "Atribuição e Divisão Inteira (//=): b era 28, agora b //= 3 é 9\n",
      "Atribuição e Módulo (%=): c era 19, agora c %= 4 é 3\n",
      "Atribuição e Exponenciação (**=): d era 2, agora d **= 4 é 16\n",
      "------------------------------\n",
      "Valor absoluto de -10 é: 10\n",
      "3.14159 arredondado para 2 casas: 3.14\n",
      "3.14159 arredondado para inteiro: 3\n",
      "3 elevado a 2 usando pow(): 9\n",
      "(7 elevado a 3) módulo 5 usando pow(): 3\n",
      "------------------------------\n",
      "A raiz quadrada de 25 é: 5.0\n",
      "O teto de 3.2 é: 4\n",
      "O piso de 3.8 é: 3\n",
      "Logaritmo natural de 10: 2.302585092994046\n",
      "Logaritmo base 10 de 100: 2.0\n",
      "Seno de pi/2 (90 graus): 1.0\n",
      "Pi radianos em graus: 180.0\n",
      "45 graus em radianos: 0.7853981633974483\n",
      "------------------------------\n",
      "5 é maior que 10? False\n",
      "5 é igual a 5? True\n",
      "2 + 3 * 4 = 14\n",
      "(2 + 3) * 4 = 20\n",
      "Tipo de 10: <class 'int'>\n",
      "Tipo de 3.14: <class 'float'>\n",
      "Tipo de (2+3j): <class 'complex'>\n",
      "10 convertido para float: 10.0\n",
      "3.14 convertido para inteiro: 3\n"
     ]
    }
   ],
   "source": [
    "# Operadores aritméticos básicos\n",
    "\n",
    "# Adição: Soma dois números.\n",
    "resultado_adicao = 5 + 3  # O resultado será 8\n",
    "print(f\"Adição: 5 + 3 = {resultado_adicao}\")\n",
    "\n",
    "# Subtração: Subtrai o segundo número do primeiro.\n",
    "resultado_subtracao = 10 - 4  # O resultado será 6\n",
    "print(f\"Subtração: 10 - 4 = {resultado_subtracao}\")\n",
    "\n",
    "# Multiplicação: Multiplica dois números.\n",
    "resultado_multiplicacao = 6 * 7  # O resultado será 42\n",
    "print(f\"Multiplicação: 6 * 7 = {resultado_multiplicacao}\")\n",
    "\n",
    "# Divisão: Divide o primeiro número pelo segundo. Retorna um float (número de ponto flutuante).\n",
    "resultado_divisao = 15 / 3  # O resultado será 5.0\n",
    "print(f\"Divisão: 15 / 3 = {resultado_divisao}\")\n",
    "\n",
    "# Divisão inteira: Divide o primeiro número pelo segundo e retorna apenas a parte inteira do resultado.\n",
    "resultado_divisao_inteira = 16 // 3  # O resultado será 5 (a parte decimal é truncada)\n",
    "print(f\"Divisão Inteira: 16 // 3 = {resultado_divisao_inteira}\")\n",
    "\n",
    "# Módulo (Resto da divisão): Retorna o resto da divisão do primeiro número pelo segundo.\n",
    "resultado_modulo = 17 % 5  # O resultado será 2 (17 dividido por 5 é 3 com resto 2)\n",
    "print(f\"Módulo (Resto): 17 % 5 = {resultado_modulo}\")\n",
    "\n",
    "# Exponenciação: Eleva o primeiro número à potência do segundo número.\n",
    "resultado_exponenciacao = 2 ** 3  # O resultado será 8 (2 elevado à terceira potência)\n",
    "print(f\"Exponenciação: 2 ** 3 = {resultado_exponenciacao}\")\n",
    "\n",
    "print(\"-\" * 30)\n",
    "\n",
    "# Operadores de atribuição combinados\n",
    "\n",
    "# Atribuição e adição: Adiciona o valor à variável existente e atribui o novo valor.\n",
    "x = 10\n",
    "x += 5  # Equivalente a x = x + 5. Agora x é 15.\n",
    "print(f\"Atribuição e Adição (+=): x era 10, agora x += 5 é {x}\")\n",
    "\n",
    "# Atribuição e subtração: Subtrai o valor da variável existente e atribui o novo valor.\n",
    "y = 20\n",
    "y -= 7  # Equivalente a y = y - 7. Agora y é 13.\n",
    "print(f\"Atribuição e Subtração (-=): y era 20, agora y -= 7 é {y}\")\n",
    "\n",
    "# Atribuição e multiplicação: Multiplica a variável existente pelo valor e atribui o novo valor.\n",
    "z = 3\n",
    "z *= 4  # Equivalente a z = z * 4. Agora z é 12.\n",
    "print(f\"Atribuição e Multiplicação (*=): z era 3, agora z *= 4 é {z}\")\n",
    "\n",
    "# Atribuição e divisão: Divide a variável existente pelo valor e atribui o novo valor (como float).\n",
    "a = 25\n",
    "a /= 5  # Equivalente a a = a / 5. Agora a é 5.0.\n",
    "print(f\"Atribuição e Divisão (/=): a era 25, agora a /= 5 é {a}\")\n",
    "\n",
    "# Atribuição e divisão inteira: Divide a variável existente pelo valor (inteiro) e atribui o novo valor (inteiro).\n",
    "b = 28\n",
    "b //= 3  # Equivalente a b = b // 3. Agora b é 9.\n",
    "print(f\"Atribuição e Divisão Inteira (//=): b era 28, agora b //= 3 é {b}\")\n",
    "\n",
    "# Atribuição e módulo: Calcula o módulo da variável existente pelo valor e atribui o novo valor.\n",
    "c = 19\n",
    "c %= 4  # Equivalente a c = c % 4. Agora c é 3.\n",
    "print(f\"Atribuição e Módulo (%=): c era 19, agora c %= 4 é {c}\")\n",
    "\n",
    "# Atribuição e exponenciação: Eleva a variável existente à potência do valor e atribui o novo valor.\n",
    "d = 2\n",
    "d **= 4  # Equivalente a d = d ** 4. Agora d é 16.\n",
    "print(f\"Atribuição e Exponenciação (**=): d era 2, agora d **= 4 é {d}\")\n",
    "\n",
    "print(\"-\" * 30)\n",
    "\n",
    "# Funções matemáticas built-in (alguns exemplos)\n",
    "\n",
    "# abs(): Retorna o valor absoluto de um número.\n",
    "valor_negativo = -10\n",
    "valor_absoluto = abs(valor_negativo)\n",
    "print(f\"Valor absoluto de {valor_negativo} é: {valor_absoluto}\")\n",
    "\n",
    "# round(): Arredonda um número para um determinado número de casas decimais (por padrão, para o inteiro mais próximo).\n",
    "numero_decimal = 3.14159\n",
    "arredondado_2_casas = round(numero_decimal, 2)  # Arredonda para 2 casas decimais\n",
    "arredondado_inteiro = round(numero_decimal)  # Arredonda para o inteiro mais próximo\n",
    "print(f\"{numero_decimal} arredondado para 2 casas: {arredondado_2_casas}\")\n",
    "print(f\"{numero_decimal} arredondado para inteiro: {arredondado_inteiro}\")\n",
    "\n",
    "# pow(): Eleva um número à potência de outro (similar a **). Pode receber um terceiro argumento para calcular o módulo do resultado.\n",
    "potencia_funcao = pow(3, 2)  # 3 elevado a 2 (resultado 9)\n",
    "potencia_modulo = pow(7, 3, 5)  # (7 elevado a 3) módulo 5 (343 % 5 = 3)\n",
    "print(f\"3 elevado a 2 usando pow(): {potencia_funcao}\")\n",
    "print(f\"(7 elevado a 3) módulo 5 usando pow(): {potencia_modulo}\")\n",
    "\n",
    "print(\"-\" * 30)\n",
    "\n",
    "# Módulo math (oferece funções matemáticas mais avançadas)\n",
    "import math\n",
    "\n",
    "# math.sqrt(): Calcula a raiz quadrada de um número.\n",
    "raiz_quadrada = math.sqrt(25)\n",
    "print(f\"A raiz quadrada de 25 é: {raiz_quadrada}\")\n",
    "\n",
    "# math.ceil(): Arredonda um número para o menor inteiro maior ou igual a ele (teto).\n",
    "valor_decimal_cima = 3.2\n",
    "teto = math.ceil(valor_decimal_cima)\n",
    "print(f\"O teto de {valor_decimal_cima} é: {teto}\")\n",
    "\n",
    "# math.floor(): Arredonda um número para o maior inteiro menor ou igual a ele (piso).\n",
    "valor_decimal_baixo = 3.8\n",
    "piso = math.floor(valor_decimal_baixo)\n",
    "print(f\"O piso de {valor_decimal_baixo} é: {piso}\")\n",
    "\n",
    "# math.log(): Calcula o logaritmo natural (base e) de um número. Pode receber uma base como segundo argumento.\n",
    "logaritmo_natural = math.log(10)\n",
    "logaritmo_base_10 = math.log(100, 10)\n",
    "print(f\"Logaritmo natural de 10: {logaritmo_natural}\")\n",
    "print(f\"Logaritmo base 10 de 100: {logaritmo_base_10}\")\n",
    "\n",
    "# math.sin(), math.cos(), math.tan(): Funções trigonométricas (seno, cosseno, tangente) - esperam ângulos em radianos.\n",
    "angulo_radianos = math.pi / 2  # 90 graus em radianos\n",
    "seno = math.sin(angulo_radianos)\n",
    "print(f\"Seno de pi/2 (90 graus): {seno}\")\n",
    "\n",
    "# math.degrees(): Converte um ângulo de radianos para graus.\n",
    "angulo_graus = math.degrees(math.pi)  # Converte pi radianos para graus (180)\n",
    "print(f\"Pi radianos em graus: {angulo_graus}\")\n",
    "\n",
    "# math.radians(): Converte um ângulo de graus para radianos.\n",
    "angulo_radianos_convertido = math.radians(45)  # Converte 45 graus para radianos\n",
    "print(f\"45 graus em radianos: {angulo_radianos_convertido}\")\n",
    "\n",
    "print(\"-\" * 30)\n",
    "\n",
    "# Outras operações e considerações\n",
    "\n",
    "# Comparação: Embora não sejam cálculos diretos, operadores de comparação são frequentemente usados em conjunto com cálculos.\n",
    "a = 5\n",
    "b = 10\n",
    "maior_que = a > b  # False\n",
    "igual_a = a == 5  # True\n",
    "print(f\"{a} é maior que {b}? {maior_que}\")\n",
    "print(f\"{a} é igual a 5? {igual_a}\")\n",
    "\n",
    "# Ordem das operações (PEMDAS/BODMAS): Python segue a ordem padrão das operações matemáticas.\n",
    "resultado_ordem = 2 + 3 * 4  # Primeiro a multiplicação (3 * 4 = 12), depois a adição (2 + 12 = 14)\n",
    "print(f\"2 + 3 * 4 = {resultado_ordem}\")\n",
    "\n",
    "resultado_parenteses = (2 + 3) * 4  # Primeiro a operação dentro dos parênteses (2 + 3 = 5), depois a multiplicação (5 * 4 = 20)\n",
    "print(f\"(2 + 3) * 4 = {resultado_parenteses}\")\n",
    "\n",
    "# Tipos de números: Python trabalha com inteiros (int), números de ponto flutuante (float) e números complexos (complex). As operações podem resultar em diferentes tipos.\n",
    "inteiro = 10\n",
    "decimal = 3.14\n",
    "complexo = 2 + 3j\n",
    "print(f\"Tipo de {inteiro}: {type(inteiro)}\")\n",
    "print(f\"Tipo de {decimal}: {type(decimal)}\")\n",
    "print(f\"Tipo de {complexo}: {type(complexo)}\")\n",
    "\n",
    "# Conversão de tipos (casting): Você pode converter entre tipos numéricos usando int(), float() e complex().\n",
    "inteiro_para_float = float(inteiro)\n",
    "float_para_inteiro = int(decimal)  # A parte decimal é truncada\n",
    "print(f\"{inteiro} convertido para float: {inteiro_para_float}\")\n",
    "print(f\"{decimal} convertido para inteiro: {float_para_inteiro}\")"
   ]
  },
  {
   "cell_type": "markdown",
   "id": "b0122c12",
   "metadata": {},
   "source": [
    "Direto ao ponto, a leitura dessa linha de código em Python seria:\n",
    "\n",
    "\"A variável hypo recebe a raiz quadrada da soma do quadrado de leg_a com o quadrado de leg_b.\"\n",
    "\n",
    "Em termos matemáticos, isso representa o cálculo da hipotenusa de um triângulo retângulo usando o Teorema de Pitágoras:\n",
    "\n",
    "hipotenusa= √(cateto a ) 2 + √(cateto b ) 2\n",
    " \n",
    "Onde:\n",
    "\n",
    "hypo representa a hipotenusa.\n",
    "leg_a representa um dos catetos (lados adjacentes ao ângulo reto).\n",
    "leg_b representa o outro cateto.\n",
    "** é o operador de exponenciação (elevar a uma potência).\n",
    "** 2 significa \"ao quadrado\".\n",
    "** 0.5 é equivalente a calcular a raiz quadrada (já que elevar a 0.5 é o mesmo que tirar a raiz quadrada).\n",
    "+ é o operador de adição.\n",
    "Portanto, a linha de código está calculando o comprimento da hipotenusa de um triângulo retângulo, dados os comprimentos de seus dois catetos."
   ]
  },
  {
   "cell_type": "markdown",
   "id": "a68a316f",
   "metadata": {},
   "source": [
    "No contexto da programação e da matemática, o símbolo ** representa a operação de exponenciação. É usado para elevar um número à potência de outro.\n",
    "\n",
    "Por exemplo:\n",
    "\n",
    "2 ** 3 significa 2 elevado à potência de 3, que é 2×2×2=8.\n",
    "5 ** 2 significa 5 elevado ao quadrado, que é 5×5=25.\n",
    "9 ** 0.5 significa 9 elevado à potência de 0.5, que é o mesmo que a raiz quadrada de 9,  \n",
    "9\n",
    "\n",
    "​\n",
    " =3.\n",
    "Portanto, quando você vê **, leia como \"elevado à potência de\".\n",
    "\n",
    "Se você viu ** repetido como ***, isso geralmente não tem um significado matemático ou de programação padrão como um único operador. Em alguns contextos específicos (como formatação de texto em Markdown), *** pode ser usado para indicar negrito e itálico ao mesmo tempo.\n",
    "\n",
    "Por exemplo, em Markdown:\n",
    "\n",
    "***Este texto está em negrito e itálico.***\n",
    "\n",
    "será renderizado como:\n",
    "\n",
    "Este texto está em negrito e itálico.\n",
    "\n",
    "Sem mais contexto, *** não representa uma operação matemática padrão. Se você viu em um contexto específico de programação, pode ser parte de uma sintaxe particular dessa linguagem ou biblioteca, mas isso seria incomum para uma operação matemática básica"
   ]
  },
  {
   "cell_type": "code",
   "execution_count": null,
   "metadata": {},
   "outputs": [
    {
     "ename": "NameError",
     "evalue": "name 'string' is not defined",
     "output_type": "error",
     "traceback": [
      "\u001b[1;31m---------------------------------------------------------------------------\u001b[0m",
      "\u001b[1;31mNameError\u001b[0m                                 Traceback (most recent call last)",
      "Cell \u001b[1;32mIn[6], line 1\u001b[0m\n\u001b[1;32m----> 1\u001b[0m \u001b[43mstring\u001b[49m \u001b[38;5;241m+\u001b[39m string\n",
      "\u001b[1;31mNameError\u001b[0m: name 'string' is not defined"
     ]
    }
   ],
   "source": [
    "string + string # o erro se justifica pela falta das aspas para obter o resultado proposto pela questão : stringstring\n",
    " \n"
   ]
  },
  {
   "cell_type": "code",
   "execution_count": 12,
   "metadata": {},
   "outputs": [
    {
     "data": {
      "text/plain": [
       "1"
      ]
     },
     "execution_count": 12,
     "metadata": {},
     "output_type": "execute_result"
    }
   ],
   "source": [
    "1 *1 "
   ]
  },
  {
   "cell_type": "code",
   "execution_count": 16,
   "metadata": {},
   "outputs": [
    {
     "data": {
      "text/plain": [
       "'abba'"
      ]
     },
     "execution_count": 16,
     "metadata": {},
     "output_type": "execute_result"
    }
   ],
   "source": [
    "\"ab\" + \"ba\""
   ]
  },
  {
   "cell_type": "markdown",
   "id": "0a37256d",
   "metadata": {},
   "source": [
    "Replicação\n",
    "O sinal*(asterisco), quando aplicado a uma string e um número (ou um número e uma string, pois permanece comutativo nessa posição) se torna um operador de replicação :\n",
    "\n",
    "\n",
    "string * number\n",
    "number * string\n",
    " \n",
    "Ele replica uma string do mesmo número de vezes especificado pelo número.\n",
    "\n",
    "Por exemplo:\n",
    "\n",
    "\"James\" * 3gera\"JamesJamesJames\"\n",
    "3 * \"um\"gera\"ananan\"\n",
    "5 * \"2\"(ou\"2\" * 5) gera\"22222\"(não10!)"
   ]
  },
  {
   "cell_type": "code",
   "execution_count": 17,
   "id": "892aa14a",
   "metadata": {},
   "outputs": [
    {
     "data": {
      "text/plain": [
       "'22222'"
      ]
     },
     "execution_count": 17,
     "metadata": {},
     "output_type": "execute_result"
    }
   ],
   "source": [
    "5 * \"2\""
   ]
  },
  {
   "cell_type": "markdown",
   "id": "739ff359",
   "metadata": {},
   "source": [
    "2.6.8 Conversões de tipo mais uma vez concluídas\n",
    "str()\n",
    "Você já sabe como usar as funçõesint()eflutuador()para converter uma string em um número.\n",
    "\n",
    "Esse tipo de conversão não é uma via de mão única. Você também pode converter um número em uma string , o que é muito mais fácil e seguro - esse tipo de operação é sempre possível.\n",
    "\n",
    "Uma função capaz de fazer isso é chamadastr():\n",
    "\n",
    "\n",
    "str(number)\n",
    " \n",
    "Para ser honesto, ele pode fazer muito mais do que apenas transformar números em cadeias, mas isso pode esperar mais tarde."
   ]
  },
  {
   "cell_type": "code",
   "execution_count": 18,
   "id": "2d3fb7e1",
   "metadata": {},
   "outputs": [
    {
     "ename": "NameError",
     "evalue": "name 'number' is not defined",
     "output_type": "error",
     "traceback": [
      "\u001b[1;31m---------------------------------------------------------------------------\u001b[0m",
      "\u001b[1;31mNameError\u001b[0m                                 Traceback (most recent call last)",
      "Cell \u001b[1;32mIn[18], line 1\u001b[0m\n\u001b[1;32m----> 1\u001b[0m \u001b[38;5;28mstr\u001b[39m(\u001b[43mnumber\u001b[49m)\n",
      "\u001b[1;31mNameError\u001b[0m: name 'number' is not defined"
     ]
    }
   ],
   "source": [
    "str(number)\n",
    " \n"
   ]
  },
  {
   "cell_type": "code",
   "execution_count": null,
   "id": "bb12fbfc",
   "metadata": {},
   "outputs": [],
   "source": []
  },
  {
   "cell_type": "markdown",
   "id": "9adfd84a",
   "metadata": {},
   "source": [
    "# entre com um valor float para a variável a aqui\n",
    "a = float(input(\"Digite o primeiro número (a): \"))\n",
    "# entre com um valor float para a variável b aqui\n",
    "b = float(input(\"Digite o segundo número (b): \"))\n",
    "\n",
    "# imprima o resultado da adição aqui\n",
    "resultado_adicao = a + b\n",
    "print(f\"A adição de {a} + {b} é: {resultado_adicao}\")\n",
    "\n",
    "# imprima o resultado da subtração aqui\n",
    "resultado_subtracao = a - b\n",
    "print(f\"A subtração de {a} - {b} é: {resultado_subtracao}\")\n",
    "\n",
    "# imprima o resultado da multiplicação aqui\n",
    "resultado_multiplicacao = a * b\n",
    "print(f\"A multiplicação de {a} * {b} é: {resultado_multiplicacao}\")\n",
    "\n",
    "# imprima o resultado da divisão aqui\n",
    "if b != 0:\n",
    "    resultado_divisao = a / b\n",
    "    print(f\"A divisão de {a} por {b} é: {resultado_divisao}\")\n",
    "else:\n",
    "    print(\"Erro: Não é possível dividir por zero.\")\n",
    "\n",
    "print ( \" \\n Isso é tudo, pessoal!\" )"
   ]
  },
  {
   "cell_type": "markdown",
   "id": "4b35fc92",
   "metadata": {},
   "source": [
    "Cenário\n",
    "Sua tarefa é completar o código para avaliar os resultados de quatro operações aritméticas básicas.\n",
    "\n",
    "Os resultados devem ser impressos no console.\n",
    "\n",
    "Talvez você não consiga proteger o código de um usuário que deseja dividir por zero. Tudo bem, não se preocupe com isso por enquanto.\n",
    "\n",
    "Teste seu código ‒ ele produz os resultados esperados?\n",
    "\n",
    "Não mostraremos nenhum dado de teste - isso seria muito simples.\n",
    "\n",
    "play_arrow\n",
    "sincronizar\n",
    "download\n",
    "modo de luz\n",
    "modo escuro\n"
   ]
  },
  {
   "cell_type": "code",
   "execution_count": 19,
   "id": "c446268b",
   "metadata": {},
   "outputs": [
    {
     "name": "stdout",
     "output_type": "stream",
     "text": [
      "A adição de 12.0 + 2.0 é: 14.0\n",
      "A subtração de 12.0 - 2.0 é: 10.0\n",
      "A multiplicação de 12.0 * 2.0 é: 24.0\n",
      "A divisão de 12.0 por 2.0 é: 6.0\n",
      " \n",
      " Isso é tudo, pessoal!\n"
     ]
    }
   ],
   "source": [
    "# entre com um valor float para a variável a aqui\n",
    "a = float(input(\"Digite o primeiro número (a): \"))\n",
    "# entre com um valor float para a variável b aqui\n",
    "b = float(input(\"Digite o segundo número (b): \"))\n",
    "\n",
    "# imprima o resultado da adição aqui\n",
    "resultado_adicao = a + b\n",
    "print(f\"A adição de {a} + {b} é: {resultado_adicao}\")\n",
    "\n",
    "# imprima o resultado da subtração aqui\n",
    "resultado_subtracao = a - b\n",
    "print(f\"A subtração de {a} - {b} é: {resultado_subtracao}\")\n",
    "\n",
    "# imprima o resultado da multiplicação aqui\n",
    "resultado_multiplicacao = a * b\n",
    "print(f\"A multiplicação de {a} * {b} é: {resultado_multiplicacao}\")\n",
    "\n",
    "# imprima o resultado da divisão aqui\n",
    "if b != 0:\n",
    "    resultado_divisao = a / b\n",
    "    print(f\"A divisão de {a} por {b} é: {resultado_divisao}\")\n",
    "else:\n",
    "    print(\"Erro: Não é possível dividir por zero.\")\n",
    "\n",
    "print ( \" \\n Isso é tudo, pessoal!\" )"
   ]
  },
  {
   "cell_type": "code",
   "execution_count": 20,
   "id": "74c6af55",
   "metadata": {},
   "outputs": [
    {
     "name": "stdout",
     "output_type": "stream",
     "text": [
      "Adição: 6.0\n",
      "Subtração: 0.0\n",
      "Multiplicação: 9.0\n",
      "Divisão: 1.0\n",
      "\n",
      "Isso é tudo, pessoal!\n"
     ]
    }
   ],
   "source": [
    "# entre com um valor para a variável a\n",
    "a = float(input(\"Digite o primeiro número: \"))\n",
    "# entre com um valor para a variável b\n",
    "b = float(input(\"Digite o segundo número: \"))\n",
    "\n",
    "# imprima os resultados das operações\n",
    "print(\"Adição:\", a + b)\n",
    "print(\"Subtração:\", a - b)\n",
    "print(\"Multiplicação:\", a * b)\n",
    "print(\"Divisão:\", a / b)\n",
    "\n",
    "print(\"\\nIsso é tudo, pessoal!\")"
   ]
  },
  {
   "cell_type": "code",
   "execution_count": null,
   "id": "3889f35b",
   "metadata": {},
   "outputs": [],
   "source": [
    "# solução da cisco \n",
    "a = float(input(\"Entre com o primeiro valor: \"))\n",
    "b = float(input(\"Entre com o segundo valor: \"))\n",
    "print(\"Adição:\", a + b)\n",
    "print(\"Subtração:\", a - b)\n",
    "print(\"Multiplicação:\", a * b)\n",
    "print(\"Divisão:\", a / b)\n",
    "print(\"\\nIsso é tudo, pessoal!\")"
   ]
  },
  {
   "cell_type": "code",
   "execution_count": null,
   "id": "210c8ce1",
   "metadata": {},
   "outputs": [],
   "source": [
    "hour = int(input(\"Hora de início (horas): \"))\n",
    "mins = int(input(\"Hora de início (minutos): \"))\n",
    "dura = int(input(\"Duração do evento (minutos): \"))\n",
    "mins = mins + dura # encontre um total de todos os minutos\n",
    "hour = hour + mins // 60 # encontre um número de horas escondido em minutos e atualize a hora\n",
    "mins = mins % 60 # minutos corretos para cair no intervalo (0..59)\n",
    "hour = hour % 24 # horas corretas para cair no intervalo (0..23)\n",
    "print(hour, \":\", mins, sep='')\n"
   ]
  },
  {
   "cell_type": "code",
   "execution_count": null,
   "id": "e6cc0ea9",
   "metadata": {},
   "outputs": [],
   "source": [
    " #O resultado da funçãoentrada()é uma string. Você pode adicionar strings umas às outras usando o operador de concatenação (+). Confira este código:\n",
    "\n",
    "\n",
    "num_1 = input(\"Digite o primeiro número: \") # Digite 12\n",
    "num_2 = input(\"Digite o segundo número: \") # Digite 21\n",
    " \n",
    "print(num_1 + num_2) # o programa retorna 1221"
   ]
  },
  {
   "cell_type": "code",
   "execution_count": 21,
   "id": "be2b951b",
   "metadata": {},
   "outputs": [
    {
     "name": "stdout",
     "output_type": "stream",
     "text": [
      "\n"
     ]
    }
   ],
   "source": [
    "#Você também pode multiplicar cadeias (*- replicação), por exemplo:\n",
    "\n",
    "\n",
    "my_input = input(\"Enter something: \") # Exemplo de entrada: Olá\n",
    "print(my_input * 3) # Saída esperada: OláOláOlá"
   ]
  },
  {
   "cell_type": "code",
   "execution_count": 24,
   "id": "87708afd",
   "metadata": {},
   "outputs": [
    {
     "name": "stdout",
     "output_type": "stream",
     "text": [
      "5555555555555555555555555555555555555555555555555555555\n"
     ]
    }
   ],
   "source": [
    "#Qual é a saída do trecho a seguir?\n",
    "\n",
    "\n",
    "x = int(input(\"Digite um número: \")) # O usuário digita 2\n",
    "print(x * \"5\")\n",
    " "
   ]
  },
  {
   "cell_type": "code",
   "execution_count": 25,
   "id": "f8d46ccb",
   "metadata": {},
   "outputs": [
    {
     "name": "stdout",
     "output_type": "stream",
     "text": [
      "<class 'str'>\n"
     ]
    }
   ],
   "source": [
    "#Qual é a saída esperada do trecho a seguir?\n",
    "\n",
    "\n",
    "x = input(\"Digite um número: \") # O usuário digita 2\n",
    "print(type(x))"
   ]
  },
  {
   "cell_type": "code",
   "execution_count": 26,
   "metadata": {},
   "outputs": [
    {
     "name": "stdout",
     "output_type": "stream",
     "text": [
      "2 1\n"
     ]
    }
   ],
   "source": [
    "x = 1\n",
    "y = 2\n",
    "z = x\n",
    "x = y\n",
    "y = z\n",
    "print(x, y)\n",
    " \n"
   ]
  },
  {
   "cell_type": "code",
   "execution_count": 27,
   "metadata": {},
   "outputs": [
    {
     "name": "stdout",
     "output_type": "stream",
     "text": [
      "\n"
     ]
    }
   ],
   "source": [
    "x = input()\n",
    "y = input()\n",
    "print(x + y)\n",
    " \n"
   ]
  },
  {
   "cell_type": "code",
   "execution_count": 28,
   "id": "1bbaf640",
   "metadata": {},
   "outputs": [
    {
     "name": "stdout",
     "output_type": "stream",
     "text": [
      "333333\n"
     ]
    }
   ],
   "source": [
    "x = input()\n",
    "y = int(input())\n",
    " \n",
    "print(x * y)\n",
    " \n"
   ]
  },
  {
   "cell_type": "code",
   "execution_count": 29,
   "metadata": {},
   "outputs": [
    {
     "name": "stdout",
     "output_type": "stream",
     "text": [
      "1*1*1\n"
     ]
    }
   ],
   "source": [
    "z = y = x = 1\n",
    "print(x, y, z, sep='*')\n",
    " \n"
   ]
  },
  {
   "cell_type": "code",
   "execution_count": 30,
   "id": "44e9098a",
   "metadata": {},
   "outputs": [
    {
     "data": {
      "text/plain": [
       "True"
      ]
     },
     "execution_count": 30,
     "metadata": {},
     "output_type": "execute_result"
    }
   ],
   "source": [
    "2 == 2."
   ]
  },
  {
   "cell_type": "code",
   "execution_count": 31,
   "metadata": {},
   "outputs": [
    {
     "data": {
      "text/plain": [
       "False"
      ]
     },
     "execution_count": 31,
     "metadata": {},
     "output_type": "execute_result"
    }
   ],
   "source": [
    "1 == 2"
   ]
  },
  {
   "cell_type": "code",
   "execution_count": 33,
   "id": "ba62da8a",
   "metadata": {},
   "outputs": [
    {
     "ename": "NameError",
     "evalue": "name 'black_sheep' is not defined",
     "output_type": "error",
     "traceback": [
      "\u001b[1;31m---------------------------------------------------------------------------\u001b[0m",
      "\u001b[1;31mNameError\u001b[0m                                 Traceback (most recent call last)",
      "Cell \u001b[1;32mIn[33], line 1\u001b[0m\n\u001b[1;32m----> 1\u001b[0m \u001b[43mblack_sheep\u001b[49m \u001b[38;5;241m==\u001b[39m \u001b[38;5;241m2\u001b[39m \u001b[38;5;241m*\u001b[39m white_sheep\n",
      "\u001b[1;31mNameError\u001b[0m: name 'black_sheep' is not defined"
     ]
    }
   ],
   "source": [
    "black_sheep == 2 * white_sheep\n",
    " \n"
   ]
  },
  {
   "cell_type": "code",
   "execution_count": null,
   "metadata": {},
   "outputs": [],
   "source": []
  },
  {
   "cell_type": "code",
   "execution_count": null,
   "metadata": {},
   "outputs": [],
   "source": []
  },
  {
   "cell_type": "code",
   "execution_count": null,
   "metadata": {},
   "outputs": [],
   "source": []
  },
  {
   "cell_type": "code",
   "execution_count": null,
   "metadata": {},
   "outputs": [],
   "source": []
  },
  {
   "cell_type": "code",
   "execution_count": null,
   "metadata": {},
   "outputs": [],
   "source": []
  },
  {
   "cell_type": "code",
   "execution_count": null,
   "metadata": {},
   "outputs": [],
   "source": []
  },
  {
   "cell_type": "code",
   "execution_count": null,
   "metadata": {},
   "outputs": [],
   "source": []
  },
  {
   "cell_type": "code",
   "execution_count": null,
   "metadata": {},
   "outputs": [],
   "source": []
  },
  {
   "cell_type": "code",
   "execution_count": null,
   "metadata": {},
   "outputs": [],
   "source": []
  },
  {
   "cell_type": "code",
   "execution_count": null,
   "metadata": {},
   "outputs": [],
   "source": []
  },
  {
   "cell_type": "code",
   "execution_count": null,
   "metadata": {},
   "outputs": [],
   "source": []
  },
  {
   "cell_type": "code",
   "execution_count": null,
   "metadata": {},
   "outputs": [],
   "source": []
  },
  {
   "cell_type": "code",
   "execution_count": null,
   "metadata": {},
   "outputs": [],
   "source": []
  },
  {
   "cell_type": "code",
   "execution_count": null,
   "metadata": {},
   "outputs": [],
   "source": []
  },
  {
   "cell_type": "code",
   "execution_count": null,
   "metadata": {},
   "outputs": [],
   "source": []
  }
 ],
 "metadata": {
  "kernelspec": {
   "display_name": "Python 3",
   "language": "python",
   "name": "python3"
  },
  "language_info": {
   "codemirror_mode": {
    "name": "ipython",
    "version": 3
   },
   "file_extension": ".py",
   "mimetype": "text/x-python",
   "name": "python",
   "nbconvert_exporter": "python",
   "pygments_lexer": "ipython3",
   "version": "3.12.4"
  }
 },
 "nbformat": 4,
 "nbformat_minor": 5
}
