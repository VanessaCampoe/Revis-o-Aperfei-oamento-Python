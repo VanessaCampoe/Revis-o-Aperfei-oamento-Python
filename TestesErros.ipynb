{
 "cells": [
  {
   "cell_type": "code",
   "execution_count": null,
   "id": "0bd7b5ef",
   "metadata": {},
   "outputs": [],
   "source": [
    "#erros no nome\n"
   ]
  }
 ],
 "metadata": {
  "kernelspec": {
   "display_name": "Python 3",
   "language": "python",
   "name": "python3"
  },
  "language_info": {
   "name": "python",
   "version": "3.12.4"
  }
 },
 "nbformat": 4,
 "nbformat_minor": 5
}
